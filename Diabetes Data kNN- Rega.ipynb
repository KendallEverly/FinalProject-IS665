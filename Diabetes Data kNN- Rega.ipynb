{
 "cells": [
  {
   "cell_type": "markdown",
   "id": "fd84b073",
   "metadata": {},
   "source": [
    "# Final Project\n",
    "### kNN Regression - Diabetes Data \n",
    "### Lauren Rega\n",
    "\n"
   ]
  },
  {
   "cell_type": "code",
   "execution_count": 360,
   "id": "0f4da792",
   "metadata": {},
   "outputs": [],
   "source": [
    "# First, import libraries\n",
    "import pandas as pd\n",
    "import numpy as np\n",
    "import matplotlib.pyplot as plt  # this is for plotting the data\n",
    "import seaborn as sns            # this is for visualization\n",
    "\n",
    "%matplotlib inline"
   ]
  },
  {
   "cell_type": "code",
   "execution_count": 361,
   "id": "331045d9",
   "metadata": {},
   "outputs": [],
   "source": [
    "#read the file\n",
    "diabetes = pd.read_csv(\"diabetes.csv\") "
   ]
  },
  {
   "cell_type": "code",
   "execution_count": 362,
   "id": "e0459134",
   "metadata": {},
   "outputs": [
    {
     "data": {
      "text/plain": [
       "(768, 9)"
      ]
     },
     "execution_count": 362,
     "metadata": {},
     "output_type": "execute_result"
    }
   ],
   "source": [
    "\n",
    "diabetes.shape # shows shape of dataset"
   ]
  },
  {
   "cell_type": "code",
   "execution_count": 363,
   "id": "3634eb34",
   "metadata": {},
   "outputs": [
    {
     "data": {
      "text/html": [
       "<div>\n",
       "<style scoped>\n",
       "    .dataframe tbody tr th:only-of-type {\n",
       "        vertical-align: middle;\n",
       "    }\n",
       "\n",
       "    .dataframe tbody tr th {\n",
       "        vertical-align: top;\n",
       "    }\n",
       "\n",
       "    .dataframe thead th {\n",
       "        text-align: right;\n",
       "    }\n",
       "</style>\n",
       "<table border=\"1\" class=\"dataframe\">\n",
       "  <thead>\n",
       "    <tr style=\"text-align: right;\">\n",
       "      <th></th>\n",
       "      <th>Pregnancies</th>\n",
       "      <th>Glucose</th>\n",
       "      <th>BloodPressure</th>\n",
       "      <th>SkinThickness</th>\n",
       "      <th>Insulin</th>\n",
       "      <th>BMI</th>\n",
       "      <th>DiabetesPedigreeFunction</th>\n",
       "      <th>Age</th>\n",
       "      <th>Outcome</th>\n",
       "    </tr>\n",
       "  </thead>\n",
       "  <tbody>\n",
       "    <tr>\n",
       "      <th>0</th>\n",
       "      <td>6</td>\n",
       "      <td>148</td>\n",
       "      <td>72</td>\n",
       "      <td>35</td>\n",
       "      <td>0</td>\n",
       "      <td>33.6</td>\n",
       "      <td>0.627</td>\n",
       "      <td>50</td>\n",
       "      <td>1</td>\n",
       "    </tr>\n",
       "    <tr>\n",
       "      <th>1</th>\n",
       "      <td>1</td>\n",
       "      <td>85</td>\n",
       "      <td>66</td>\n",
       "      <td>29</td>\n",
       "      <td>0</td>\n",
       "      <td>26.6</td>\n",
       "      <td>0.351</td>\n",
       "      <td>31</td>\n",
       "      <td>0</td>\n",
       "    </tr>\n",
       "    <tr>\n",
       "      <th>2</th>\n",
       "      <td>8</td>\n",
       "      <td>183</td>\n",
       "      <td>64</td>\n",
       "      <td>0</td>\n",
       "      <td>0</td>\n",
       "      <td>23.3</td>\n",
       "      <td>0.672</td>\n",
       "      <td>32</td>\n",
       "      <td>1</td>\n",
       "    </tr>\n",
       "    <tr>\n",
       "      <th>3</th>\n",
       "      <td>1</td>\n",
       "      <td>89</td>\n",
       "      <td>66</td>\n",
       "      <td>23</td>\n",
       "      <td>94</td>\n",
       "      <td>28.1</td>\n",
       "      <td>0.167</td>\n",
       "      <td>21</td>\n",
       "      <td>0</td>\n",
       "    </tr>\n",
       "    <tr>\n",
       "      <th>4</th>\n",
       "      <td>0</td>\n",
       "      <td>137</td>\n",
       "      <td>40</td>\n",
       "      <td>35</td>\n",
       "      <td>168</td>\n",
       "      <td>43.1</td>\n",
       "      <td>2.288</td>\n",
       "      <td>33</td>\n",
       "      <td>1</td>\n",
       "    </tr>\n",
       "  </tbody>\n",
       "</table>\n",
       "</div>"
      ],
      "text/plain": [
       "   Pregnancies  Glucose  BloodPressure  SkinThickness  Insulin   BMI  \\\n",
       "0            6      148             72             35        0  33.6   \n",
       "1            1       85             66             29        0  26.6   \n",
       "2            8      183             64              0        0  23.3   \n",
       "3            1       89             66             23       94  28.1   \n",
       "4            0      137             40             35      168  43.1   \n",
       "\n",
       "   DiabetesPedigreeFunction  Age  Outcome  \n",
       "0                     0.627   50        1  \n",
       "1                     0.351   31        0  \n",
       "2                     0.672   32        1  \n",
       "3                     0.167   21        0  \n",
       "4                     2.288   33        1  "
      ]
     },
     "execution_count": 363,
     "metadata": {},
     "output_type": "execute_result"
    }
   ],
   "source": [
    "diabetes.head() #shows first five rows"
   ]
  },
  {
   "cell_type": "code",
   "execution_count": 364,
   "id": "cf1268d0",
   "metadata": {},
   "outputs": [
    {
     "name": "stdout",
     "output_type": "stream",
     "text": [
      "<class 'pandas.core.frame.DataFrame'>\n",
      "RangeIndex: 768 entries, 0 to 767\n",
      "Data columns (total 9 columns):\n",
      " #   Column                    Non-Null Count  Dtype  \n",
      "---  ------                    --------------  -----  \n",
      " 0   Pregnancies               768 non-null    int64  \n",
      " 1   Glucose                   768 non-null    int64  \n",
      " 2   BloodPressure             768 non-null    int64  \n",
      " 3   SkinThickness             768 non-null    int64  \n",
      " 4   Insulin                   768 non-null    int64  \n",
      " 5   BMI                       768 non-null    float64\n",
      " 6   DiabetesPedigreeFunction  768 non-null    float64\n",
      " 7   Age                       768 non-null    int64  \n",
      " 8   Outcome                   768 non-null    int64  \n",
      "dtypes: float64(2), int64(7)\n",
      "memory usage: 54.1 KB\n"
     ]
    }
   ],
   "source": [
    "diabetes.info() #shows attributes and data type"
   ]
  },
  {
   "cell_type": "code",
   "execution_count": 365,
   "id": "3c8407d3",
   "metadata": {},
   "outputs": [
    {
     "data": {
      "text/html": [
       "<div>\n",
       "<style scoped>\n",
       "    .dataframe tbody tr th:only-of-type {\n",
       "        vertical-align: middle;\n",
       "    }\n",
       "\n",
       "    .dataframe tbody tr th {\n",
       "        vertical-align: top;\n",
       "    }\n",
       "\n",
       "    .dataframe thead th {\n",
       "        text-align: right;\n",
       "    }\n",
       "</style>\n",
       "<table border=\"1\" class=\"dataframe\">\n",
       "  <thead>\n",
       "    <tr style=\"text-align: right;\">\n",
       "      <th></th>\n",
       "      <th>Pregnancies</th>\n",
       "      <th>Glucose</th>\n",
       "      <th>BloodPressure</th>\n",
       "      <th>SkinThickness</th>\n",
       "      <th>Insulin</th>\n",
       "      <th>BMI</th>\n",
       "      <th>DiabetesPedigreeFunction</th>\n",
       "      <th>Age</th>\n",
       "      <th>Outcome</th>\n",
       "    </tr>\n",
       "  </thead>\n",
       "  <tbody>\n",
       "    <tr>\n",
       "      <th>0</th>\n",
       "      <td>False</td>\n",
       "      <td>False</td>\n",
       "      <td>False</td>\n",
       "      <td>False</td>\n",
       "      <td>False</td>\n",
       "      <td>False</td>\n",
       "      <td>False</td>\n",
       "      <td>False</td>\n",
       "      <td>False</td>\n",
       "    </tr>\n",
       "    <tr>\n",
       "      <th>1</th>\n",
       "      <td>False</td>\n",
       "      <td>False</td>\n",
       "      <td>False</td>\n",
       "      <td>False</td>\n",
       "      <td>False</td>\n",
       "      <td>False</td>\n",
       "      <td>False</td>\n",
       "      <td>False</td>\n",
       "      <td>False</td>\n",
       "    </tr>\n",
       "    <tr>\n",
       "      <th>2</th>\n",
       "      <td>False</td>\n",
       "      <td>False</td>\n",
       "      <td>False</td>\n",
       "      <td>False</td>\n",
       "      <td>False</td>\n",
       "      <td>False</td>\n",
       "      <td>False</td>\n",
       "      <td>False</td>\n",
       "      <td>False</td>\n",
       "    </tr>\n",
       "    <tr>\n",
       "      <th>3</th>\n",
       "      <td>False</td>\n",
       "      <td>False</td>\n",
       "      <td>False</td>\n",
       "      <td>False</td>\n",
       "      <td>False</td>\n",
       "      <td>False</td>\n",
       "      <td>False</td>\n",
       "      <td>False</td>\n",
       "      <td>False</td>\n",
       "    </tr>\n",
       "    <tr>\n",
       "      <th>4</th>\n",
       "      <td>False</td>\n",
       "      <td>False</td>\n",
       "      <td>False</td>\n",
       "      <td>False</td>\n",
       "      <td>False</td>\n",
       "      <td>False</td>\n",
       "      <td>False</td>\n",
       "      <td>False</td>\n",
       "      <td>False</td>\n",
       "    </tr>\n",
       "    <tr>\n",
       "      <th>...</th>\n",
       "      <td>...</td>\n",
       "      <td>...</td>\n",
       "      <td>...</td>\n",
       "      <td>...</td>\n",
       "      <td>...</td>\n",
       "      <td>...</td>\n",
       "      <td>...</td>\n",
       "      <td>...</td>\n",
       "      <td>...</td>\n",
       "    </tr>\n",
       "    <tr>\n",
       "      <th>763</th>\n",
       "      <td>False</td>\n",
       "      <td>False</td>\n",
       "      <td>False</td>\n",
       "      <td>False</td>\n",
       "      <td>False</td>\n",
       "      <td>False</td>\n",
       "      <td>False</td>\n",
       "      <td>False</td>\n",
       "      <td>False</td>\n",
       "    </tr>\n",
       "    <tr>\n",
       "      <th>764</th>\n",
       "      <td>False</td>\n",
       "      <td>False</td>\n",
       "      <td>False</td>\n",
       "      <td>False</td>\n",
       "      <td>False</td>\n",
       "      <td>False</td>\n",
       "      <td>False</td>\n",
       "      <td>False</td>\n",
       "      <td>False</td>\n",
       "    </tr>\n",
       "    <tr>\n",
       "      <th>765</th>\n",
       "      <td>False</td>\n",
       "      <td>False</td>\n",
       "      <td>False</td>\n",
       "      <td>False</td>\n",
       "      <td>False</td>\n",
       "      <td>False</td>\n",
       "      <td>False</td>\n",
       "      <td>False</td>\n",
       "      <td>False</td>\n",
       "    </tr>\n",
       "    <tr>\n",
       "      <th>766</th>\n",
       "      <td>False</td>\n",
       "      <td>False</td>\n",
       "      <td>False</td>\n",
       "      <td>False</td>\n",
       "      <td>False</td>\n",
       "      <td>False</td>\n",
       "      <td>False</td>\n",
       "      <td>False</td>\n",
       "      <td>False</td>\n",
       "    </tr>\n",
       "    <tr>\n",
       "      <th>767</th>\n",
       "      <td>False</td>\n",
       "      <td>False</td>\n",
       "      <td>False</td>\n",
       "      <td>False</td>\n",
       "      <td>False</td>\n",
       "      <td>False</td>\n",
       "      <td>False</td>\n",
       "      <td>False</td>\n",
       "      <td>False</td>\n",
       "    </tr>\n",
       "  </tbody>\n",
       "</table>\n",
       "<p>768 rows × 9 columns</p>\n",
       "</div>"
      ],
      "text/plain": [
       "     Pregnancies  Glucose  BloodPressure  SkinThickness  Insulin    BMI  \\\n",
       "0          False    False          False          False    False  False   \n",
       "1          False    False          False          False    False  False   \n",
       "2          False    False          False          False    False  False   \n",
       "3          False    False          False          False    False  False   \n",
       "4          False    False          False          False    False  False   \n",
       "..           ...      ...            ...            ...      ...    ...   \n",
       "763        False    False          False          False    False  False   \n",
       "764        False    False          False          False    False  False   \n",
       "765        False    False          False          False    False  False   \n",
       "766        False    False          False          False    False  False   \n",
       "767        False    False          False          False    False  False   \n",
       "\n",
       "     DiabetesPedigreeFunction    Age  Outcome  \n",
       "0                       False  False    False  \n",
       "1                       False  False    False  \n",
       "2                       False  False    False  \n",
       "3                       False  False    False  \n",
       "4                       False  False    False  \n",
       "..                        ...    ...      ...  \n",
       "763                     False  False    False  \n",
       "764                     False  False    False  \n",
       "765                     False  False    False  \n",
       "766                     False  False    False  \n",
       "767                     False  False    False  \n",
       "\n",
       "[768 rows x 9 columns]"
      ]
     },
     "execution_count": 365,
     "metadata": {},
     "output_type": "execute_result"
    }
   ],
   "source": [
    "# First, use the \"isnull()\" method to locate the null values if any...\n",
    "diabetes.isnull()"
   ]
  },
  {
   "cell_type": "code",
   "execution_count": 366,
   "id": "42c99411",
   "metadata": {},
   "outputs": [
    {
     "data": {
      "text/html": [
       "<div>\n",
       "<style scoped>\n",
       "    .dataframe tbody tr th:only-of-type {\n",
       "        vertical-align: middle;\n",
       "    }\n",
       "\n",
       "    .dataframe tbody tr th {\n",
       "        vertical-align: top;\n",
       "    }\n",
       "\n",
       "    .dataframe thead th {\n",
       "        text-align: right;\n",
       "    }\n",
       "</style>\n",
       "<table border=\"1\" class=\"dataframe\">\n",
       "  <thead>\n",
       "    <tr style=\"text-align: right;\">\n",
       "      <th></th>\n",
       "      <th>Pregnancies</th>\n",
       "      <th>Glucose</th>\n",
       "      <th>BloodPressure</th>\n",
       "      <th>SkinThickness</th>\n",
       "      <th>Insulin</th>\n",
       "      <th>BMI</th>\n",
       "      <th>DiabetesPedigreeFunction</th>\n",
       "      <th>Age</th>\n",
       "      <th>Outcome</th>\n",
       "    </tr>\n",
       "  </thead>\n",
       "  <tbody>\n",
       "    <tr>\n",
       "      <th>count</th>\n",
       "      <td>768.000000</td>\n",
       "      <td>768.000000</td>\n",
       "      <td>768.000000</td>\n",
       "      <td>768.000000</td>\n",
       "      <td>768.000000</td>\n",
       "      <td>768.000000</td>\n",
       "      <td>768.000000</td>\n",
       "      <td>768.000000</td>\n",
       "      <td>768.000000</td>\n",
       "    </tr>\n",
       "    <tr>\n",
       "      <th>mean</th>\n",
       "      <td>3.845052</td>\n",
       "      <td>120.894531</td>\n",
       "      <td>69.105469</td>\n",
       "      <td>20.536458</td>\n",
       "      <td>79.799479</td>\n",
       "      <td>31.992578</td>\n",
       "      <td>0.471876</td>\n",
       "      <td>33.240885</td>\n",
       "      <td>0.348958</td>\n",
       "    </tr>\n",
       "    <tr>\n",
       "      <th>std</th>\n",
       "      <td>3.369578</td>\n",
       "      <td>31.972618</td>\n",
       "      <td>19.355807</td>\n",
       "      <td>15.952218</td>\n",
       "      <td>115.244002</td>\n",
       "      <td>7.884160</td>\n",
       "      <td>0.331329</td>\n",
       "      <td>11.760232</td>\n",
       "      <td>0.476951</td>\n",
       "    </tr>\n",
       "    <tr>\n",
       "      <th>min</th>\n",
       "      <td>0.000000</td>\n",
       "      <td>0.000000</td>\n",
       "      <td>0.000000</td>\n",
       "      <td>0.000000</td>\n",
       "      <td>0.000000</td>\n",
       "      <td>0.000000</td>\n",
       "      <td>0.078000</td>\n",
       "      <td>21.000000</td>\n",
       "      <td>0.000000</td>\n",
       "    </tr>\n",
       "    <tr>\n",
       "      <th>25%</th>\n",
       "      <td>1.000000</td>\n",
       "      <td>99.000000</td>\n",
       "      <td>62.000000</td>\n",
       "      <td>0.000000</td>\n",
       "      <td>0.000000</td>\n",
       "      <td>27.300000</td>\n",
       "      <td>0.243750</td>\n",
       "      <td>24.000000</td>\n",
       "      <td>0.000000</td>\n",
       "    </tr>\n",
       "    <tr>\n",
       "      <th>50%</th>\n",
       "      <td>3.000000</td>\n",
       "      <td>117.000000</td>\n",
       "      <td>72.000000</td>\n",
       "      <td>23.000000</td>\n",
       "      <td>30.500000</td>\n",
       "      <td>32.000000</td>\n",
       "      <td>0.372500</td>\n",
       "      <td>29.000000</td>\n",
       "      <td>0.000000</td>\n",
       "    </tr>\n",
       "    <tr>\n",
       "      <th>75%</th>\n",
       "      <td>6.000000</td>\n",
       "      <td>140.250000</td>\n",
       "      <td>80.000000</td>\n",
       "      <td>32.000000</td>\n",
       "      <td>127.250000</td>\n",
       "      <td>36.600000</td>\n",
       "      <td>0.626250</td>\n",
       "      <td>41.000000</td>\n",
       "      <td>1.000000</td>\n",
       "    </tr>\n",
       "    <tr>\n",
       "      <th>max</th>\n",
       "      <td>17.000000</td>\n",
       "      <td>199.000000</td>\n",
       "      <td>122.000000</td>\n",
       "      <td>99.000000</td>\n",
       "      <td>846.000000</td>\n",
       "      <td>67.100000</td>\n",
       "      <td>2.420000</td>\n",
       "      <td>81.000000</td>\n",
       "      <td>1.000000</td>\n",
       "    </tr>\n",
       "  </tbody>\n",
       "</table>\n",
       "</div>"
      ],
      "text/plain": [
       "       Pregnancies     Glucose  BloodPressure  SkinThickness     Insulin  \\\n",
       "count   768.000000  768.000000     768.000000     768.000000  768.000000   \n",
       "mean      3.845052  120.894531      69.105469      20.536458   79.799479   \n",
       "std       3.369578   31.972618      19.355807      15.952218  115.244002   \n",
       "min       0.000000    0.000000       0.000000       0.000000    0.000000   \n",
       "25%       1.000000   99.000000      62.000000       0.000000    0.000000   \n",
       "50%       3.000000  117.000000      72.000000      23.000000   30.500000   \n",
       "75%       6.000000  140.250000      80.000000      32.000000  127.250000   \n",
       "max      17.000000  199.000000     122.000000      99.000000  846.000000   \n",
       "\n",
       "              BMI  DiabetesPedigreeFunction         Age     Outcome  \n",
       "count  768.000000                768.000000  768.000000  768.000000  \n",
       "mean    31.992578                  0.471876   33.240885    0.348958  \n",
       "std      7.884160                  0.331329   11.760232    0.476951  \n",
       "min      0.000000                  0.078000   21.000000    0.000000  \n",
       "25%     27.300000                  0.243750   24.000000    0.000000  \n",
       "50%     32.000000                  0.372500   29.000000    0.000000  \n",
       "75%     36.600000                  0.626250   41.000000    1.000000  \n",
       "max     67.100000                  2.420000   81.000000    1.000000  "
      ]
     },
     "execution_count": 366,
     "metadata": {},
     "output_type": "execute_result"
    }
   ],
   "source": [
    "# No null values! Let's look at summary statistics\n",
    "\n",
    "diabetes.describe() \n",
    "# Notice that some of these values cannot be zero (Glucose level, BloodPressure, SkinThickness, Insulin, BMI) \n",
    "# So we will need to clean the dataset. There are also some maximum values that are far away from the mean. \n",
    "# We will take a further look to gain more insight."
   ]
  },
  {
   "cell_type": "code",
   "execution_count": 367,
   "id": "9eb997e5",
   "metadata": {},
   "outputs": [
    {
     "data": {
      "text/plain": [
       "<AxesSubplot:xlabel='Outcome', ylabel='count'>"
      ]
     },
     "execution_count": 367,
     "metadata": {},
     "output_type": "execute_result"
    },
    {
     "data": {
      "image/png": "[encoded data removed]",
      "text/plain": [
       "<Figure size 432x288 with 1 Axes>"
      ]
     },
     "metadata": {
      "needs_background": "light"
     },
     "output_type": "display_data"
    }
   ],
   "source": [
    "# A simple barchart of our label, 'Outcome', will give us some perspective on the number of females\n",
    "#who did & did not have diabetes\n",
    "sns.countplot(x='Outcome',data=diabetes)"
   ]
  },
  {
   "cell_type": "code",
   "execution_count": 368,
   "id": "febc6a39",
   "metadata": {},
   "outputs": [
    {
     "data": {
      "text/plain": [
       "<seaborn.axisgrid.FacetGrid at 0x24db03bb130>"
      ]
     },
     "execution_count": 368,
     "metadata": {},
     "output_type": "execute_result"
    },
    {
     "data": {
      "image/png": "[encoded data removed]",
      "text/plain": [
       "<Figure size 360x360 with 1 Axes>"
      ]
     },
     "metadata": {
      "needs_background": "light"
     },
     "output_type": "display_data"
    },
    {
     "data": {
      "image/png": "[encoded data removed]",
      "text/plain": [
       "<Figure size 360x360 with 1 Axes>"
      ]
     },
     "metadata": {
      "needs_background": "light"
     },
     "output_type": "display_data"
    },
    {
     "data": {
      "image/png": "[encoded data removed]",
      "text/plain": [
       "<Figure size 360x360 with 1 Axes>"
      ]
     },
     "metadata": {
      "needs_background": "light"
     },
     "output_type": "display_data"
    },
    {
     "data": {
      "image/png": "[encoded data removed]",
      "text/plain": [
       "<Figure size 360x360 with 1 Axes>"
      ]
     },
     "metadata": {
      "needs_background": "light"
     },
     "output_type": "display_data"
    },
    {
     "data": {
      "image/png": "[encoded data removed]",
      "text/plain": [
       "<Figure size 360x360 with 1 Axes>"
      ]
     },
     "metadata": {
      "needs_background": "light"
     },
     "output_type": "display_data"
    },
    {
     "data": {
      "image/png": "[encoded data removed]",
      "text/plain": [
       "<Figure size 360x360 with 1 Axes>"
      ]
     },
     "metadata": {
      "needs_background": "light"
     },
     "output_type": "display_data"
    },
    {
     "data": {
      "image/png": "[encoded data removed]",
      "text/plain": [
       "<Figure size 360x360 with 1 Axes>"
      ]
     },
     "metadata": {
      "needs_background": "light"
     },
     "output_type": "display_data"
    },
    {
     "data": {
      "image/png": "[encoded data removed]",
      "text/plain": [
       "<Figure size 360x360 with 1 Axes>"
      ]
     },
     "metadata": {
      "needs_background": "light"
     },
     "output_type": "display_data"
    }
   ],
   "source": [
    "#lets take a closer look at the distribution plots for our independent variables:\n",
    "sns.displot(diabetes['Pregnancies'])\n",
    "sns.displot(diabetes['Glucose'])\n",
    "sns.displot(diabetes['BloodPressure'])\n",
    "sns.displot(diabetes['SkinThickness'])\n",
    "sns.displot(diabetes['Insulin'])\n",
    "sns.displot(diabetes['BMI'])\n",
    "sns.displot(diabetes['DiabetesPedigreeFunction'])\n",
    "sns.displot(diabetes['Age'])"
   ]
  },
  {
   "cell_type": "code",
   "execution_count": 369,
   "id": "c41c6609",
   "metadata": {},
   "outputs": [],
   "source": [
    "#As suspected some of the attributes have zero's which are skewing the distribution. Let's clean the dataset. \n",
    "diabetes['Glucose'] = diabetes['Glucose'].replace(0,diabetes['Glucose'].mean())\n",
    "diabetes['BloodPressure'] = diabetes['BloodPressure'].replace(0,diabetes['BloodPressure'].mean())\n",
    "diabetes['SkinThickness'] = diabetes['SkinThickness'].replace(0,diabetes['SkinThickness'].mean())\n",
    "diabetes['Insulin'] = diabetes['Insulin'].replace(0,diabetes['Insulin'].mean())\n",
    "diabetes['BMI'] = diabetes['BMI'].replace(0,diabetes['BMI'].mean())\n"
   ]
  },
  {
   "cell_type": "code",
   "execution_count": 370,
   "id": "c221d8c3",
   "metadata": {},
   "outputs": [
    {
     "data": {
      "text/plain": [
       "<seaborn.axisgrid.FacetGrid at 0x24db1306490>"
      ]
     },
     "execution_count": 370,
     "metadata": {},
     "output_type": "execute_result"
    },
    {
     "data": {
      "image/png": "[encoded data removed]",
      "text/plain": [
       "<Figure size 360x360 with 1 Axes>"
      ]
     },
     "metadata": {
      "needs_background": "light"
     },
     "output_type": "display_data"
    },
    {
     "data": {
      "image/png": "[encoded data removed]",
      "text/plain": [
       "<Figure size 360x360 with 1 Axes>"
      ]
     },
     "metadata": {
      "needs_background": "light"
     },
     "output_type": "display_data"
    },
    {
     "data": {
      "image/png": "[encoded data removed]",
      "text/plain": [
       "<Figure size 360x360 with 1 Axes>"
      ]
     },
     "metadata": {
      "needs_background": "light"
     },
     "output_type": "display_data"
    },
    {
     "data": {
      "image/png": "[encoded data removed]",
      "text/plain": [
       "<Figure size 360x360 with 1 Axes>"
      ]
     },
     "metadata": {
      "needs_background": "light"
     },
     "output_type": "display_data"
    },
    {
     "data": {
      "image/png": "[encoded data removed]",
      "text/plain": [
       "<Figure size 360x360 with 1 Axes>"
      ]
     },
     "metadata": {
      "needs_background": "light"
     },
     "output_type": "display_data"
    },
    {
     "data": {
      "image/png": "[encoded data removed]",
      "text/plain": [
       "<Figure size 360x360 with 1 Axes>"
      ]
     },
     "metadata": {
      "needs_background": "light"
     },
     "output_type": "display_data"
    },
    {
     "data": {
      "image/png": "[encoded data removed]",
      "text/plain": [
       "<Figure size 360x360 with 1 Axes>"
      ]
     },
     "metadata": {
      "needs_background": "light"
     },
     "output_type": "display_data"
    },
    {
     "data": {
      "image/png": "[encoded data removed]",
      "text/plain": [
       "<Figure size 360x360 with 1 Axes>"
      ]
     },
     "metadata": {
      "needs_background": "light"
     },
     "output_type": "display_data"
    }
   ],
   "source": [
    "#Now that the zero's are fixed, lets take another look at the distribution plots for our independent variables:\n",
    "sns.displot(diabetes['Pregnancies'])\n",
    "sns.displot(diabetes['Glucose'])\n",
    "sns.displot(diabetes['BloodPressure'])\n",
    "sns.displot(diabetes['SkinThickness'])\n",
    "sns.displot(diabetes['Insulin'])\n",
    "sns.displot(diabetes['BMI'])\n",
    "sns.displot(diabetes['DiabetesPedigreeFunction'])\n",
    "sns.displot(diabetes['Age'])"
   ]
  },
  {
   "cell_type": "code",
   "execution_count": 371,
   "id": "7c834b51",
   "metadata": {},
   "outputs": [],
   "source": [
    "# some of these features still looked skewed. Let's remove outliers using the Interquartile Range method\n",
    "# First, define a function called 'outliers' which returns an index of outliers\n",
    "#IQR = Q3-Q1\n",
    "# +/- 1.5*IQR\n",
    "def outliers(df, ft): # inputs are dataframe and feature\n",
    "    Q1 = df[ft].quantile(0.25) #calculate first quantile\n",
    "    Q3 = df[ft].quantile(0.75) #calculate third quantile\n",
    "    IQR = Q3 - Q1 # calculate IQR\n",
    "    #calc lower & upper bound: \n",
    "    lower_bound = Q1 - 1.5 * IQR\n",
    "    upper_bound = Q3 + 1.5 * IQR\n",
    "    # create a list which will store the indexes of the outliers\n",
    "    ls = df.index[ (df[ft] < lower_bound) | (df[ft] > upper_bound)] # if conditions return true, it is outlier\n",
    "    \n",
    "    return ls # returns list\n",
    "\n"
   ]
  },
  {
   "cell_type": "code",
   "execution_count": 372,
   "id": "60d46b90",
   "metadata": {},
   "outputs": [],
   "source": [
    "# Now, create an empty list to store output indicies from multiple columns\n",
    "\n",
    "index_list = []\n",
    "for feature in['Pregnancies', 'Glucose', 'BloodPressure', 'SkinThickness', 'Insulin', 'BMI', 'DiabetesPedigreeFunction', 'Age', 'Outcome']:\n",
    "    index_list.extend(outliers(diabetes, feature))\n",
    "    "
   ]
  },
  {
   "cell_type": "code",
   "execution_count": 373,
   "id": "d6a29a6b",
   "metadata": {},
   "outputs": [
    {
     "data": {
      "text/plain": [
       "[88,\n",
       " 159,\n",
       " 298,\n",
       " 455,\n",
       " 18,\n",
       " 43,\n",
       " 84,\n",
       " 106,\n",
       " 125,\n",
       " 177,\n",
       " 362,\n",
       " 549,\n",
       " 597,\n",
       " 599,\n",
       " 658,\n",
       " 662,\n",
       " 672,\n",
       " 691,\n",
       " 57,\n",
       " 86,\n",
       " 99,\n",
       " 120,\n",
       " 150,\n",
       " 211,\n",
       " 273,\n",
       " 275,\n",
       " 445,\n",
       " 532,\n",
       " 579,\n",
       " 591,\n",
       " 8,\n",
       " 13,\n",
       " 16,\n",
       " 20,\n",
       " 31,\n",
       " 39,\n",
       " 43,\n",
       " 53,\n",
       " 54,\n",
       " 56,\n",
       " 73,\n",
       " 95,\n",
       " 99,\n",
       " 111,\n",
       " 132,\n",
       " 139,\n",
       " 144,\n",
       " 150,\n",
       " 153,\n",
       " 162,\n",
       " 186,\n",
       " 195,\n",
       " 199,\n",
       " 206,\n",
       " 215,\n",
       " 220,\n",
       " 228,\n",
       " 231,\n",
       " 247,\n",
       " 248,\n",
       " 254,\n",
       " 258,\n",
       " 279,\n",
       " 286,\n",
       " 287,\n",
       " 296,\n",
       " 297,\n",
       " 309,\n",
       " 320,\n",
       " 335,\n",
       " 359,\n",
       " 360,\n",
       " 364,\n",
       " 370,\n",
       " 375,\n",
       " 388,\n",
       " 392,\n",
       " 395,\n",
       " 409,\n",
       " 412,\n",
       " 415,\n",
       " 424,\n",
       " 425,\n",
       " 452,\n",
       " 458,\n",
       " 480,\n",
       " 485,\n",
       " 486,\n",
       " 487,\n",
       " 511,\n",
       " 519,\n",
       " 538,\n",
       " 540,\n",
       " 545,\n",
       " 546,\n",
       " 555,\n",
       " 561,\n",
       " 574,\n",
       " 584,\n",
       " 594,\n",
       " 606,\n",
       " 608,\n",
       " 612,\n",
       " 645,\n",
       " 655,\n",
       " 657,\n",
       " 662,\n",
       " 673,\n",
       " 679,\n",
       " 685,\n",
       " 695,\n",
       " 700,\n",
       " 707,\n",
       " 710,\n",
       " 713,\n",
       " 715,\n",
       " 721,\n",
       " 748,\n",
       " 753,\n",
       " 120,\n",
       " 125,\n",
       " 177,\n",
       " 193,\n",
       " 247,\n",
       " 303,\n",
       " 445,\n",
       " 673,\n",
       " 4,\n",
       " 12,\n",
       " 39,\n",
       " 45,\n",
       " 58,\n",
       " 100,\n",
       " 147,\n",
       " 187,\n",
       " 218,\n",
       " 228,\n",
       " 243,\n",
       " 245,\n",
       " 259,\n",
       " 292,\n",
       " 308,\n",
       " 330,\n",
       " 370,\n",
       " 371,\n",
       " 383,\n",
       " 395,\n",
       " 445,\n",
       " 534,\n",
       " 593,\n",
       " 606,\n",
       " 618,\n",
       " 621,\n",
       " 622,\n",
       " 659,\n",
       " 661,\n",
       " 123,\n",
       " 363,\n",
       " 453,\n",
       " 459,\n",
       " 489,\n",
       " 537,\n",
       " 666,\n",
       " 674,\n",
       " 684]"
      ]
     },
     "execution_count": 373,
     "metadata": {},
     "output_type": "execute_result"
    }
   ],
   "source": [
    "# Let's see our index list\n",
    "index_list"
   ]
  },
  {
   "cell_type": "code",
   "execution_count": 374,
   "id": "ed7a7c9d",
   "metadata": {},
   "outputs": [],
   "source": [
    "# Next, define a function called 'remove' which returns a cleaned dataframe without outliers\n",
    "\n",
    "def remove(df, ls):\n",
    "    ls = sorted(set(ls)) #organize list\n",
    "    df = df.drop(ls) # drop values\n",
    "    return df"
   ]
  },
  {
   "cell_type": "code",
   "execution_count": 375,
   "id": "8249f890",
   "metadata": {},
   "outputs": [],
   "source": [
    "df_cleaned = remove(diabetes, index_list)"
   ]
  },
  {
   "cell_type": "code",
   "execution_count": 376,
   "id": "a46cc03e",
   "metadata": {},
   "outputs": [
    {
     "data": {
      "text/plain": [
       "(619, 9)"
      ]
     },
     "execution_count": 376,
     "metadata": {},
     "output_type": "execute_result"
    }
   ],
   "source": [
    "df_cleaned.shape # our row count has reduced!"
   ]
  },
  {
   "cell_type": "code",
   "execution_count": 377,
   "id": "b7946c25",
   "metadata": {},
   "outputs": [],
   "source": [
    "#Lets save the data to new csv\n",
    "df_cleaned.to_csv('diabetes_cleaned.csv', index=False)\n"
   ]
  },
  {
   "cell_type": "code",
   "execution_count": 378,
   "id": "898dbcd5",
   "metadata": {},
   "outputs": [],
   "source": [
    "#read the file\n",
    "diabetes_cleaned = pd.read_csv(\"diabetes_cleaned.csv\") "
   ]
  },
  {
   "cell_type": "code",
   "execution_count": 379,
   "id": "e0fe3fe0",
   "metadata": {},
   "outputs": [
    {
     "data": {
      "text/html": [
       "<div>\n",
       "<style scoped>\n",
       "    .dataframe tbody tr th:only-of-type {\n",
       "        vertical-align: middle;\n",
       "    }\n",
       "\n",
       "    .dataframe tbody tr th {\n",
       "        vertical-align: top;\n",
       "    }\n",
       "\n",
       "    .dataframe thead th {\n",
       "        text-align: right;\n",
       "    }\n",
       "</style>\n",
       "<table border=\"1\" class=\"dataframe\">\n",
       "  <thead>\n",
       "    <tr style=\"text-align: right;\">\n",
       "      <th></th>\n",
       "      <th>Pregnancies</th>\n",
       "      <th>Glucose</th>\n",
       "      <th>BloodPressure</th>\n",
       "      <th>SkinThickness</th>\n",
       "      <th>Insulin</th>\n",
       "      <th>BMI</th>\n",
       "      <th>DiabetesPedigreeFunction</th>\n",
       "      <th>Age</th>\n",
       "      <th>Outcome</th>\n",
       "    </tr>\n",
       "  </thead>\n",
       "  <tbody>\n",
       "    <tr>\n",
       "      <th>count</th>\n",
       "      <td>619.000000</td>\n",
       "      <td>619.000000</td>\n",
       "      <td>619.000000</td>\n",
       "      <td>619.000000</td>\n",
       "      <td>619.000000</td>\n",
       "      <td>619.000000</td>\n",
       "      <td>619.000000</td>\n",
       "      <td>619.000000</td>\n",
       "      <td>619.000000</td>\n",
       "    </tr>\n",
       "    <tr>\n",
       "      <th>mean</th>\n",
       "      <td>3.796446</td>\n",
       "      <td>117.310941</td>\n",
       "      <td>71.624363</td>\n",
       "      <td>25.249849</td>\n",
       "      <td>91.649792</td>\n",
       "      <td>31.551427</td>\n",
       "      <td>0.416362</td>\n",
       "      <td>32.500808</td>\n",
       "      <td>0.311793</td>\n",
       "    </tr>\n",
       "    <tr>\n",
       "      <th>std</th>\n",
       "      <td>3.230706</td>\n",
       "      <td>28.132574</td>\n",
       "      <td>10.959187</td>\n",
       "      <td>8.202458</td>\n",
       "      <td>33.777507</td>\n",
       "      <td>6.229763</td>\n",
       "      <td>0.244863</td>\n",
       "      <td>10.980621</td>\n",
       "      <td>0.463600</td>\n",
       "    </tr>\n",
       "    <tr>\n",
       "      <th>min</th>\n",
       "      <td>0.000000</td>\n",
       "      <td>44.000000</td>\n",
       "      <td>44.000000</td>\n",
       "      <td>8.000000</td>\n",
       "      <td>15.000000</td>\n",
       "      <td>18.200000</td>\n",
       "      <td>0.078000</td>\n",
       "      <td>21.000000</td>\n",
       "      <td>0.000000</td>\n",
       "    </tr>\n",
       "    <tr>\n",
       "      <th>25%</th>\n",
       "      <td>1.000000</td>\n",
       "      <td>97.000000</td>\n",
       "      <td>64.000000</td>\n",
       "      <td>20.536458</td>\n",
       "      <td>79.799479</td>\n",
       "      <td>27.000000</td>\n",
       "      <td>0.236500</td>\n",
       "      <td>24.000000</td>\n",
       "      <td>0.000000</td>\n",
       "    </tr>\n",
       "    <tr>\n",
       "      <th>50%</th>\n",
       "      <td>3.000000</td>\n",
       "      <td>112.000000</td>\n",
       "      <td>70.000000</td>\n",
       "      <td>20.536458</td>\n",
       "      <td>79.799479</td>\n",
       "      <td>31.600000</td>\n",
       "      <td>0.340000</td>\n",
       "      <td>29.000000</td>\n",
       "      <td>0.000000</td>\n",
       "    </tr>\n",
       "    <tr>\n",
       "      <th>75%</th>\n",
       "      <td>6.000000</td>\n",
       "      <td>133.000000</td>\n",
       "      <td>78.000000</td>\n",
       "      <td>31.000000</td>\n",
       "      <td>94.000000</td>\n",
       "      <td>35.350000</td>\n",
       "      <td>0.564500</td>\n",
       "      <td>40.000000</td>\n",
       "      <td>1.000000</td>\n",
       "    </tr>\n",
       "    <tr>\n",
       "      <th>max</th>\n",
       "      <td>13.000000</td>\n",
       "      <td>197.000000</td>\n",
       "      <td>104.000000</td>\n",
       "      <td>49.000000</td>\n",
       "      <td>196.000000</td>\n",
       "      <td>50.000000</td>\n",
       "      <td>1.191000</td>\n",
       "      <td>66.000000</td>\n",
       "      <td>1.000000</td>\n",
       "    </tr>\n",
       "  </tbody>\n",
       "</table>\n",
       "</div>"
      ],
      "text/plain": [
       "       Pregnancies     Glucose  BloodPressure  SkinThickness     Insulin  \\\n",
       "count   619.000000  619.000000     619.000000     619.000000  619.000000   \n",
       "mean      3.796446  117.310941      71.624363      25.249849   91.649792   \n",
       "std       3.230706   28.132574      10.959187       8.202458   33.777507   \n",
       "min       0.000000   44.000000      44.000000       8.000000   15.000000   \n",
       "25%       1.000000   97.000000      64.000000      20.536458   79.799479   \n",
       "50%       3.000000  112.000000      70.000000      20.536458   79.799479   \n",
       "75%       6.000000  133.000000      78.000000      31.000000   94.000000   \n",
       "max      13.000000  197.000000     104.000000      49.000000  196.000000   \n",
       "\n",
       "              BMI  DiabetesPedigreeFunction         Age     Outcome  \n",
       "count  619.000000                619.000000  619.000000  619.000000  \n",
       "mean    31.551427                  0.416362   32.500808    0.311793  \n",
       "std      6.229763                  0.244863   10.980621    0.463600  \n",
       "min     18.200000                  0.078000   21.000000    0.000000  \n",
       "25%     27.000000                  0.236500   24.000000    0.000000  \n",
       "50%     31.600000                  0.340000   29.000000    0.000000  \n",
       "75%     35.350000                  0.564500   40.000000    1.000000  \n",
       "max     50.000000                  1.191000   66.000000    1.000000  "
      ]
     },
     "execution_count": 379,
     "metadata": {},
     "output_type": "execute_result"
    }
   ],
   "source": [
    "diabetes_cleaned.describe() \n",
    "#Lets see what our new summary statistics look like"
   ]
  },
  {
   "cell_type": "code",
   "execution_count": 380,
   "id": "bb89cd7f",
   "metadata": {},
   "outputs": [
    {
     "data": {
      "text/plain": [
       "(619, 9)"
      ]
     },
     "execution_count": 380,
     "metadata": {},
     "output_type": "execute_result"
    }
   ],
   "source": [
    "diabetes_cleaned.shape # Checking the shape again"
   ]
  },
  {
   "cell_type": "code",
   "execution_count": 381,
   "id": "cbbd20f3",
   "metadata": {},
   "outputs": [
    {
     "data": {
      "text/plain": [
       "<seaborn.axisgrid.FacetGrid at 0x24db0e1a1c0>"
      ]
     },
     "execution_count": 381,
     "metadata": {},
     "output_type": "execute_result"
    },
    {
     "data": {
      "image/png": "[encoded data removed]",
      "text/plain": [
       "<Figure size 360x360 with 1 Axes>"
      ]
     },
     "metadata": {
      "needs_background": "light"
     },
     "output_type": "display_data"
    },
    {
     "data": {
      "image/png": "[encoded data removed]",
      "text/plain": [
       "<Figure size 360x360 with 1 Axes>"
      ]
     },
     "metadata": {
      "needs_background": "light"
     },
     "output_type": "display_data"
    },
    {
     "data": {
      "image/png": "[encoded data removed]",
      "text/plain": [
       "<Figure size 360x360 with 1 Axes>"
      ]
     },
     "metadata": {
      "needs_background": "light"
     },
     "output_type": "display_data"
    },
    {
     "data": {
      "image/png": "[encoded data removed]",
      "text/plain": [
       "<Figure size 360x360 with 1 Axes>"
      ]
     },
     "metadata": {
      "needs_background": "light"
     },
     "output_type": "display_data"
    },
    {
     "data": {
      "image/png": "[encoded data removed]",
      "text/plain": [
       "<Figure size 360x360 with 1 Axes>"
      ]
     },
     "metadata": {
      "needs_background": "light"
     },
     "output_type": "display_data"
    },
    {
     "data": {
      "image/png": "[encoded data removed]",
      "text/plain": [
       "<Figure size 360x360 with 1 Axes>"
      ]
     },
     "metadata": {
      "needs_background": "light"
     },
     "output_type": "display_data"
    },
    {
     "data": {
      "image/png": "[encoded data removed]",
      "text/plain": [
       "<Figure size 360x360 with 1 Axes>"
      ]
     },
     "metadata": {
      "needs_background": "light"
     },
     "output_type": "display_data"
    },
    {
     "data": {
      "image/png": "[encoded data removed]",
      "text/plain": [
       "<Figure size 360x360 with 1 Axes>"
      ]
     },
     "metadata": {
      "needs_background": "light"
     },
     "output_type": "display_data"
    },
    {
     "data": {
      "image/png": "[encoded data removed]",
      "text/plain": [
       "<Figure size 360x360 with 1 Axes>"
      ]
     },
     "metadata": {
      "needs_background": "light"
     },
     "output_type": "display_data"
    }
   ],
   "source": [
    "#lets see what our distribution plots look like now that we have removed outliers:\n",
    "sns.displot(diabetes_cleaned['Pregnancies'])\n",
    "sns.displot(diabetes_cleaned['Glucose'])\n",
    "sns.displot(diabetes_cleaned['BloodPressure'])\n",
    "sns.displot(diabetes_cleaned['SkinThickness'])\n",
    "sns.displot(diabetes_cleaned['Insulin'])\n",
    "sns.displot(diabetes_cleaned['BMI'])\n",
    "sns.displot(diabetes['DiabetesPedigreeFunction'])\n",
    "sns.displot(diabetes_cleaned['Age'])\n",
    "sns.displot(diabetes_cleaned['Outcome'])"
   ]
  },
  {
   "cell_type": "code",
   "execution_count": 382,
   "id": "bb87de55",
   "metadata": {},
   "outputs": [],
   "source": [
    "#Looks great! Now lets start our kNN model.\n",
    "#First Define X & y:\n",
    "X = diabetes_cleaned.drop(columns = ['Outcome'])\n",
    "y = diabetes_cleaned['Outcome']"
   ]
  },
  {
   "cell_type": "code",
   "execution_count": 383,
   "id": "78227d30",
   "metadata": {},
   "outputs": [],
   "source": [
    "from sklearn.neighbors import KNeighborsClassifier"
   ]
  },
  {
   "cell_type": "code",
   "execution_count": 384,
   "id": "9ac18d4b",
   "metadata": {},
   "outputs": [],
   "source": [
    "# Now we scale our data so that the algorithm will perform better\n",
    "scalar = StandardScaler()\n",
    "X_scalar = scalar.fit_transform(X)"
   ]
  },
  {
   "cell_type": "code",
   "execution_count": 385,
   "id": "1ecf17e2",
   "metadata": {},
   "outputs": [
    {
     "data": {
      "text/plain": [
       "array([[ 0.68261737,  1.09175498,  0.03430374, ...,  0.3291024 ,\n",
       "         0.86092316,  1.59493212],\n",
       "       [-0.86628347, -1.14945302, -0.51362487, ..., -0.79544459,\n",
       "        -0.26714798, -0.1367884 ],\n",
       "       [ 1.3021777 ,  2.33687054, -0.69626775, ..., -1.32558817,\n",
       "         1.0448478 , -0.04564521],\n",
       "       ...,\n",
       "       [ 0.3728372 ,  0.13123727,  0.03430374, ..., -0.85970442,\n",
       "        -0.7003927 , -0.22793158],\n",
       "       [-0.86628347,  0.30911092, -1.06155349, ..., -0.2331711 ,\n",
       "        -0.27532241,  1.32150256],\n",
       "       [-0.86628347, -0.86485518, -0.14833913, ..., -0.18497622,\n",
       "        -0.4142877 , -0.86593388]])"
      ]
     },
     "execution_count": 385,
     "metadata": {},
     "output_type": "execute_result"
    }
   ],
   "source": [
    "#Lets see what our scaled data looks like:\n",
    "X_scalar"
   ]
  },
  {
   "cell_type": "code",
   "execution_count": 386,
   "id": "bea3e57e",
   "metadata": {},
   "outputs": [],
   "source": [
    "# Splitting data into training and testing data\n",
    "from sklearn.model_selection import train_test_split\n",
    "\n",
    "X_train, X_test, y_train, y_test = train_test_split(X_scalar, y, random_state = 100)"
   ]
  },
  {
   "cell_type": "code",
   "execution_count": 387,
   "id": "7912b175",
   "metadata": {},
   "outputs": [],
   "source": [
    "# Creating a classifier object in sklearn\n",
    "knn = KNeighborsClassifier(p=1)"
   ]
  },
  {
   "cell_type": "code",
   "execution_count": 388,
   "id": "c768f0e5",
   "metadata": {},
   "outputs": [
    {
     "data": {
      "text/plain": [
       "KNeighborsClassifier(p=1)"
      ]
     },
     "execution_count": 388,
     "metadata": {},
     "output_type": "execute_result"
    }
   ],
   "source": [
    "# Fitting our model\n",
    "knn.fit(X_train, y_train)"
   ]
  },
  {
   "cell_type": "code",
   "execution_count": 389,
   "id": "7891fd23",
   "metadata": {},
   "outputs": [
    {
     "name": "stdout",
     "output_type": "stream",
     "text": [
      "[0 0 0 0 0 0 1 0 0 1 0 0 0 0 0 0 0 0 0 0 1 0 0 0 0 0 1 1 0 0 0 0 0 1 1 0 1\n",
      " 1 0 0 0 0 0 1 1 0 0 0 0 1 0 0 0 1 0 0 0 0 0 0 1 0 0 1 0 1 1 0 0 0 0 1 0 0\n",
      " 1 0 0 0 0 0 1 0 0 0 0 0 1 0 0 0 0 0 0 0 0 0 0 0 1 1 1 0 0 1 0 0 0 0 0 0 0\n",
      " 0 0 0 0 1 0 0 0 0 0 0 0 0 0 0 1 0 0 0 0 1 0 0 0 0 0 1 1 1 1 0 1 1 0 1 1 1\n",
      " 1 0 0 1 0 0 0]\n"
     ]
    }
   ],
   "source": [
    "# Making predictions\n",
    "predictions = knn.predict(X_test)\n",
    "print(predictions)"
   ]
  },
  {
   "cell_type": "code",
   "execution_count": 390,
   "id": "7f8abe73",
   "metadata": {},
   "outputs": [
    {
     "name": "stdout",
     "output_type": "stream",
     "text": [
      "0.7612903225806451\n"
     ]
    }
   ],
   "source": [
    "# Measuring the accuracy of our model\n",
    "from sklearn.metrics import accuracy_score\n",
    "print(accuracy_score(y_test, predictions))"
   ]
  },
  {
   "cell_type": "code",
   "execution_count": 391,
   "id": "90268f9b",
   "metadata": {},
   "outputs": [
    {
     "name": "stdout",
     "output_type": "stream",
     "text": [
      "              precision    recall  f1-score   support\n",
      "\n",
      "           0       0.79      0.88      0.83       105\n",
      "           1       0.67      0.52      0.58        50\n",
      "\n",
      "    accuracy                           0.76       155\n",
      "   macro avg       0.73      0.70      0.71       155\n",
      "weighted avg       0.75      0.76      0.75       155\n",
      "\n"
     ]
    }
   ],
   "source": [
    "#import classification_report\n",
    "from sklearn.metrics import classification_report\n",
    "print(classification_report(y_test,predictions))"
   ]
  },
  {
   "cell_type": "code",
   "execution_count": 392,
   "id": "63dfb88a",
   "metadata": {},
   "outputs": [
    {
     "data": {
      "text/plain": [
       "array([[92, 13],\n",
       "       [24, 26]], dtype=int64)"
      ]
     },
     "execution_count": 392,
     "metadata": {},
     "output_type": "execute_result"
    }
   ],
   "source": [
    "from sklearn.metrics import accuracy_score, confusion_matrix, roc_curve, roc_auc_score\n",
    "conf_mat = confusion_matrix(y_test, predictions)\n",
    "conf_mat"
   ]
  },
  {
   "cell_type": "code",
   "execution_count": 393,
   "id": "06fca9e8",
   "metadata": {},
   "outputs": [],
   "source": [
    "tpr = conf_mat[0][0]\n",
    "fpr = conf_mat[0][1]\n",
    "false_negative = conf_mat[1][0]\n",
    "true_negative = conf_mat[1][1]"
   ]
  },
  {
   "cell_type": "code",
   "execution_count": 404,
   "id": "3258f110",
   "metadata": {},
   "outputs": [
    {
     "name": "stdout",
     "output_type": "stream",
     "text": [
      "0.7076190476190477\n"
     ]
    },
    {
     "data": {
      "image/png": "[encoded data removed]",
      "text/plain": [
       "<Figure size 432x288 with 1 Axes>"
      ]
     },
     "metadata": {
      "needs_background": "light"
     },
     "output_type": "display_data"
    }
   ],
   "source": [
    "# auc scores\n",
    "auc_score = roc_auc_score(y_test, predictions)\n",
    "\n",
    "print(auc_score)\n",
    "\n",
    "# roc curve for models\n",
    "fpr, tpr, thresh = roc_curve(y_test, predictions, pos_label=1)\n",
    "\n",
    "# roc curve for tpr = fpr \n",
    "random_probs = [0 for i in range(len(y_test))]\n",
    "p_fpr, p_tpr, _ = roc_curve(y_test, random_probs, pos_label=1)\n",
    "\n",
    "plt.plot(fpr, tpr, linestyle='--',color='darkgreen', label='kNN')\n",
    "plt.xlabel('False Positive Rate')\n",
    "plt.ylabel('True Positive Rate')\n",
    "plt.title('ROC')\n",
    "plt.legend()\n",
    "plt.show()\n"
   ]
  },
  {
   "cell_type": "code",
   "execution_count": 395,
   "id": "05129216",
   "metadata": {},
   "outputs": [
    {
     "name": "stdout",
     "output_type": "stream",
     "text": [
      "Fitting 5 folds for each of 28 candidates, totalling 140 fits\n",
      "{'n_neighbors': 11, 'p': 1, 'weights': 'uniform'}\n"
     ]
    }
   ],
   "source": [
    "# Creating a dictionary of parameters to use in GridSearchCV\n",
    "from sklearn.model_selection import GridSearchCV\n",
    "\n",
    "params = {\n",
    "    'n_neighbors':  range(1, 15, 2),\n",
    "    'p': [1,2],\n",
    "    'weights': ['uniform', 'distance']\n",
    "}\n",
    "\n",
    "\n",
    "knn = GridSearchCV(\n",
    "    estimator=KNeighborsClassifier(),\n",
    "    param_grid=params,\n",
    "    cv=5,\n",
    "    n_jobs=5,\n",
    "    verbose=1,\n",
    ")\n",
    "\n",
    "knn.fit(X_train, y_train)\n",
    "print(knn.best_params_)# returns best parameters according to gridsearch\n",
    "\n",
    "# Returns: {'n_neighbors': 5, 'p': 1, 'weights': 'uniform'}"
   ]
  },
  {
   "cell_type": "code",
   "execution_count": 396,
   "id": "5e1d9a6c",
   "metadata": {},
   "outputs": [],
   "source": [
    "# we will use the best parameters in our k-NN algorithm and check if accuracy is increasing.\n",
    "\n",
    "knn = KNeighborsClassifier(n_neighbors = 11, p =1, weights = 'uniform')"
   ]
  },
  {
   "cell_type": "code",
   "execution_count": 397,
   "id": "3b17a671",
   "metadata": {},
   "outputs": [
    {
     "data": {
      "text/plain": [
       "KNeighborsClassifier(n_neighbors=11, p=1)"
      ]
     },
     "execution_count": 397,
     "metadata": {},
     "output_type": "execute_result"
    }
   ],
   "source": [
    "knn.fit(X_train,y_train)"
   ]
  },
  {
   "cell_type": "code",
   "execution_count": 398,
   "id": "9c33c215",
   "metadata": {},
   "outputs": [
    {
     "data": {
      "text/plain": [
       "0.8060344827586207"
      ]
     },
     "execution_count": 398,
     "metadata": {},
     "output_type": "execute_result"
    }
   ],
   "source": [
    "knn.score(X_train,y_train)"
   ]
  },
  {
   "cell_type": "code",
   "execution_count": 399,
   "id": "7ecefef6",
   "metadata": {},
   "outputs": [
    {
     "data": {
      "text/plain": [
       "0.9096774193548387"
      ]
     },
     "execution_count": 399,
     "metadata": {},
     "output_type": "execute_result"
    }
   ],
   "source": [
    "knn.score(X_test,predictions)"
   ]
  },
  {
   "cell_type": "code",
   "execution_count": 400,
   "id": "5a71965a",
   "metadata": {},
   "outputs": [],
   "source": [
    "predictions = knn.predict(X_test)\n"
   ]
  },
  {
   "cell_type": "code",
   "execution_count": 348,
   "id": "2bb3ea12",
   "metadata": {},
   "outputs": [
    {
     "name": "stdout",
     "output_type": "stream",
     "text": [
      "              precision    recall  f1-score   support\n",
      "\n",
      "           0       0.68      0.96      0.80       105\n",
      "           1       0.43      0.06      0.11        50\n",
      "\n",
      "    accuracy                           0.67       155\n",
      "   macro avg       0.56      0.51      0.45       155\n",
      "weighted avg       0.60      0.67      0.57       155\n",
      "\n"
     ]
    }
   ],
   "source": [
    "print(classification_report(y_test , predictions))\n",
    "\n",
    "#you can see that our f1 scores and accuracies have decreased after running cross validation"
   ]
  },
  {
   "cell_type": "code",
   "execution_count": 402,
   "id": "baa3c727",
   "metadata": {},
   "outputs": [
    {
     "data": {
      "image/png": "[encoded data removed]",
      "text/plain": [
       "<Figure size 432x288 with 1 Axes>"
      ]
     },
     "metadata": {
      "needs_background": "light"
     },
     "output_type": "display_data"
    }
   ],
   "source": [
    "# Area Under Curve\n",
    "auc = roc_auc_score(y_test, predictions)\n",
    "auc\n",
    "\n",
    "\n",
    "from sklearn.metrics import roc_curve\n",
    "from sklearn.metrics import roc_auc_score\n",
    "fpr, tpr, thresholds = roc_curve(y_test, predictions)\n",
    "plt.plot(fpr, tpr, color='darkgreen', label='ROC')\n",
    "plt.plot([0, 1], [0, 1], color='orange', linestyle='--',label='ROC curve (area = %0.2f)' % auc)\n",
    "plt.xlabel('False Positive Rate')\n",
    "plt.ylabel('True Positive Rate')\n",
    "plt.title('ROC Curve')\n",
    "plt.legend()\n",
    "plt.show()"
   ]
  },
  {
   "cell_type": "code",
   "execution_count": null,
   "id": "faba213b",
   "metadata": {},
   "outputs": [],
   "source": []
  }
 ],
 "metadata": {
  "kernelspec": {
   "display_name": "Python 3 (ipykernel)",
   "language": "python",
   "name": "python3"
  },
  "language_info": {
   "codemirror_mode": {
    "name": "ipython",
    "version": 3
   },
   "file_extension": ".py",
   "mimetype": "text/x-python",
   "name": "python",
   "nbconvert_exporter": "python",
   "pygments_lexer": "ipython3",
   "version": "3.9.7"
  }
 },
 "nbformat": 4,
 "nbformat_minor": 5
}
